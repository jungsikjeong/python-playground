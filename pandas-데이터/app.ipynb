{
 "cells": [
  {
   "cell_type": "code",
   "execution_count": 8,
   "metadata": {},
   "outputs": [
    {
     "name": "stdout",
     "output_type": "stream",
     "text": [
      "     나이 성별           학력       기혼              소득  사용금액  사용횟수\n",
      "0    45  M  High School  Married     $60K - $80K  1144    42\n",
      "1    49  F     Graduate   Single  Less than $40K  1291    33\n",
      "2    51  M     Graduate  Married    $80K - $120K  1887    20\n",
      "3    40  F  High School  Unknown  Less than $40K  1171    20\n",
      "4    40  M   Uneducated  Married     $60K - $80K   816    28\n",
      "..   .. ..          ...      ...             ...   ...   ...\n",
      "195  47  F  High School  Married  Less than $40K  1002    22\n",
      "196  41  M  High School  Unknown         $120K +  1344    21\n",
      "197  53  M   Uneducated  Married    $80K - $120K  1461    42\n",
      "198  68  M  High School  Married  Less than $40K   760    21\n",
      "199  44  F     Graduate  Married    $80K - $120K  1316    25\n",
      "\n",
      "[200 rows x 7 columns]\n"
     ]
    }
   ],
   "source": [
    "import pandas as pd \n",
    "\n",
    "df = pd.read_csv('credit.csv')\n",
    "print(df)\n",
    "\n",
    "# print(df['나이'].mean()) # 평균 나이값\n",
    "# print(df['나이'].mode()) # 최빈값\n",
    "# print(df['나이'].max()) # 최대값\n",
    "# print(df['나이'].min()) # 최소값\n",
    "# print(df['나이'].describe()) # 빠른통계\n",
    "\n",
    "# dataframe # 판다스에서 다루는 dataframe 자료형 2차원 데이터  가로세로 열 이있는 데이터를 뜻함\n",
    "# Series # 1차원 데이터, 컬럼 이라고 생각하면됌\n",
    "\n"
   ]
  },
  {
   "cell_type": "code",
   "execution_count": 11,
   "metadata": {},
   "outputs": [
    {
     "name": "stdout",
     "output_type": "stream",
     "text": [
      "           나이         사용금액       사용횟수\n",
      "성별                                   \n",
      "F   49.910256  1320.115385  27.910256\n",
      "M   49.983607  1352.368852  28.868852\n"
     ]
    }
   ],
   "source": [
    "print(df.groupby('성별').mean(numeric_only=True)) # 카테고리에따라 분석"
   ]
  },
  {
   "cell_type": "code",
   "execution_count": null,
   "metadata": {},
   "outputs": [],
   "source": [
    "# pip install pandas"
   ]
  }
 ],
 "metadata": {
  "kernelspec": {
   "display_name": ".venv",
   "language": "python",
   "name": "python3"
  },
  "language_info": {
   "codemirror_mode": {
    "name": "ipython",
    "version": 3
   },
   "file_extension": ".py",
   "mimetype": "text/x-python",
   "name": "python",
   "nbconvert_exporter": "python",
   "pygments_lexer": "ipython3",
   "version": "3.13.1"
  }
 },
 "nbformat": 4,
 "nbformat_minor": 2
}
